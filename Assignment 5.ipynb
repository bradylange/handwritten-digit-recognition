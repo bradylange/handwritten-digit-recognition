{
 "cells": [
  {
   "cell_type": "markdown",
   "metadata": {},
   "source": [
    "# <center>CSIS 452 - Applied Machine Learning</center>\n",
    "## Assignment 5 - due: 04/23/2020\n",
    "In this assignment you will develop a Multinomial Logistic Regression model for handwritten digit recognition using MNIST data set. \n",
    "\n",
    "Enter your name as a comment in the cell below:"
   ]
  },
  {
   "cell_type": "markdown",
   "metadata": {},
   "source": [
    "Developer: Brady Lange\n",
    "\n",
    "Date: 04/16/2020\n",
    "\n",
    "Course: Applied Machine Learning (CSIS 452)\n",
    "\n",
    "Description: Multinomial Logistic Regression on the MNIST dataset to predict the handwritten digit."
   ]
  },
  {
   "cell_type": "code",
   "execution_count": 1,
   "metadata": {},
   "outputs": [
    {
     "name": "stderr",
     "output_type": "stream",
     "text": [
      "Using TensorFlow backend.\n"
     ]
    }
   ],
   "source": [
    "import numpy as np\n",
    "import matplotlib\n",
    "import matplotlib.pyplot as plt\n",
    "from sklearn import datasets\n",
    "from keras.datasets import mnist\n",
    "from sklearn.model_selection import train_test_split\n",
    "from sklearn.metrics import confusion_matrix, accuracy_score, precision_score, recall_score, f1_score\n",
    "from sklearn.linear_model import LogisticRegression"
   ]
  },
  {
   "cell_type": "markdown",
   "metadata": {},
   "source": [
    "The following function can be used to display a random sample of images along with targets and predicted class."
   ]
  },
  {
   "cell_type": "code",
   "execution_count": 1,
   "metadata": {},
   "outputs": [
    {
     "ename": "NameError",
     "evalue": "name 'np' is not defined",
     "output_type": "error",
     "traceback": [
      "\u001b[1;31m---------------------------------------------------------------------------\u001b[0m",
      "\u001b[1;31mNameError\u001b[0m                                 Traceback (most recent call last)",
      "\u001b[1;32m<ipython-input-1-c40937efa4bb>\u001b[0m in \u001b[0;36m<module>\u001b[1;34m\u001b[0m\n\u001b[1;32m----> 1\u001b[1;33m \u001b[1;32mdef\u001b[0m \u001b[0mdisplay_a_random_sample_of_images\u001b[0m\u001b[1;33m(\u001b[0m\u001b[0mgrid_size\u001b[0m\u001b[1;33m,\u001b[0m \u001b[0mimages\u001b[0m\u001b[1;33m,\u001b[0m \u001b[0mtargets\u001b[0m\u001b[1;33m,\u001b[0m \u001b[0mpredictions\u001b[0m \u001b[1;33m=\u001b[0m \u001b[0mnp\u001b[0m\u001b[1;33m.\u001b[0m\u001b[0marray\u001b[0m\u001b[1;33m(\u001b[0m\u001b[1;33m[\u001b[0m\u001b[1;33m]\u001b[0m\u001b[1;33m)\u001b[0m\u001b[1;33m,\u001b[0m \u001b[0mtitle\u001b[0m \u001b[1;33m=\u001b[0m \u001b[1;34m\"images\"\u001b[0m\u001b[1;33m)\u001b[0m\u001b[1;33m:\u001b[0m\u001b[1;33m\u001b[0m\u001b[1;33m\u001b[0m\u001b[0m\n\u001b[0m\u001b[0;32m      2\u001b[0m     \"\"\" \n\u001b[0;32m      3\u001b[0m     \u001b[0mDisplayes\u001b[0m \u001b[0ma\u001b[0m \u001b[0mrandom\u001b[0m \u001b[0msample\u001b[0m \u001b[0mof\u001b[0m \u001b[0mimages\u001b[0m \u001b[1;32mwith\u001b[0m \u001b[0mthe\u001b[0m \u001b[0mcorresponding\u001b[0m \u001b[0mtargets\u001b[0m\u001b[1;33m\u001b[0m\u001b[1;33m\u001b[0m\u001b[0m\n\u001b[0;32m      4\u001b[0m \u001b[1;33m\u001b[0m\u001b[0m\n\u001b[0;32m      5\u001b[0m \u001b[1;33m\u001b[0m\u001b[0m\n",
      "\u001b[1;31mNameError\u001b[0m: name 'np' is not defined"
     ]
    }
   ],
   "source": [
    "def display_a_random_sample_of_images(grid_size, images, targets, predictions = np.array([]), title = \"images\"):\n",
    "    \"\"\" \n",
    "    Displayes a random sample of images with the corresponding targets\n",
    "    \n",
    "    \n",
    "    Argument:\n",
    "        grid_size -- size of subplot will be grid_sizeXgrid_size.\n",
    "        images -- an array of images 32x32  (num_images x 8 x 8)\n",
    "        targets -- an array of class values (num_images x 1) containing class values \n",
    "             between 0 and 9  \n",
    "        predictions -- an array of predicted class values (nume_images X 1) containig predicted\n",
    "             class values between 0 and 9\n",
    "    Returns:\n",
    "        None\n",
    "    \"\"\"\n",
    "    class_names = [\"0\", \"1\", \"2\", \"3\", \"4\", \"5\", \"6\", \"7\", \"8\", \"9\"] \n",
    "    #reshape the images for display\n",
    "    \n",
    "    fig, axes1 = plt.subplots(grid_size, grid_size, figsize = (5, 5))\n",
    "    fig.suptitle(title, fontsize = \"x-small\")\n",
    "    plt.subplots_adjust(left = None, bottom = None, right = None, top = None, wspace = 0.8, hspace = 0.8)\n",
    "    \n",
    "    for j in range(grid_size):\n",
    "        for k in range(grid_size):\n",
    "            i = np.random.choice(range(len(images)))\n",
    "            axes1[j][k].set_axis_off()\n",
    "            if predictions.size > 0:\n",
    "                axes1[j][k].set_title(class_names[targets[i]] + \",\" + class_names[predictions[i]])\n",
    "            else:\n",
    "                axes1[j][k].set_title(class_names[targets[i]])\n",
    "            axes1[j][k].title.set_fontsize(8)\n",
    "            axes1[j][k].imshow(images[i, :, :], cmap = matplotlib.cm.binary, interpolation = \"nearest\")"
   ]
  },
  {
   "cell_type": "markdown",
   "metadata": {},
   "source": [
    "Let's first load the data set from keras datasets.  You will need to look at Keras datasets documentation, learn about the MNIST data set and develop the code below."
   ]
  },
  {
   "cell_type": "code",
   "execution_count": 3,
   "metadata": {},
   "outputs": [],
   "source": [
    "def load_digits():\n",
    "    \"\"\"\n",
    "    Load and returns images and targets from the sklearn digits dataset.  \n",
    "    \n",
    "    Arguments: None\n",
    "    \n",
    "    #Returns: \n",
    "        images -- an array of digit images (num_imagesX8x8) \n",
    "               -- images are in normlaized form\n",
    "        target_classes -- an array of class values (num_imagesX1) containing \n",
    "        class values between 0 and 9\n",
    "\n",
    "    \"\"\"    \n",
    "\n",
    "    (X_train, y_train), (X_test, y_test) = mnist.load_data()\n",
    "    \n",
    "    return X_train, y_train, X_test, y_test"
   ]
  },
  {
   "cell_type": "markdown",
   "metadata": {},
   "source": [
    "Now, let's load the images and display a random sample of 9 images in a 3-by-3 grid along with their corresponding target class using the functions developed above."
   ]
  },
  {
   "cell_type": "code",
   "execution_count": 4,
   "metadata": {},
   "outputs": [
    {
     "name": "stdout",
     "output_type": "stream",
     "text": [
      "(60000, 28, 28) (60000,) (10000, 28, 28) (10000,)\n"
     ]
    },
    {
     "data": {
      "image/png": "[encoded data removed]",
      "text/plain": [
       "<Figure size 360x360 with 9 Axes>"
      ]
     },
     "metadata": {
      "needs_background": "light"
     },
     "output_type": "display_data"
    }
   ],
   "source": [
    "X_train, y_train, X_test, y_test = load_digits()\n",
    "print(X_train.shape, y_train.shape, X_test.shape, y_test.shape)\n",
    "np.random.seed(2)\n",
    "display_a_random_sample_of_images(3, X_train, y_train, \n",
    "                                  title = \"Handwritten Images: Actual Digit\")\n",
    "plt.show()"
   ]
  },
  {
   "cell_type": "markdown",
   "metadata": {},
   "source": [
    "## Expected output:\n",
    "<img src=\"Figure1.png\" width=\"20%\" height=\"20%\" align=\"left\"> <br>\n"
   ]
  },
  {
   "cell_type": "markdown",
   "metadata": {},
   "source": [
    "Next, we will reshape the train images from 60000 x 28 x 28 to 60000 x 784 and test images from 10000 x 28 x 28 to 10000 x 784.  This way, each image will be represented with a vector of 784 pixel values.  We will also reshape the targets to a rank-2 vector.  "
   ]
  },
  {
   "cell_type": "code",
   "execution_count": 5,
   "metadata": {},
   "outputs": [
    {
     "name": "stdout",
     "output_type": "stream",
     "text": [
      "(60000, 784) (60000, 1) (10000, 784) (10000, 1)\n"
     ]
    }
   ],
   "source": [
    "X_train_flat = X_train.reshape(X_train.shape[0], X_train.shape[1] * X_train.shape[2])\n",
    "y_train_flat = y_train.reshape(y_train.shape[0], 1)\n",
    "X_test_flat = X_test.reshape(X_test.shape[0], X_test.shape[1] * X_test.shape[2])\n",
    "y_test_flat = y_test.reshape(y_test.shape[0], 1)\n",
    "\n",
    "print(X_train_flat.shape, y_train_flat.shape, X_test_flat.shape, y_test_flat.shape)"
   ]
  },
  {
   "cell_type": "markdown",
   "metadata": {},
   "source": [
    "## Expected output:\n",
    "(60000, 784) (60000, 1) (10000, 784) (10000, 1)\n"
   ]
  },
  {
   "cell_type": "markdown",
   "metadata": {},
   "source": [
    "Now let's train a Logistic Regression model using the flattened data.  You do not need to normalize the features as pixel values are in the same range (0 to 255). NOTE: Ignore the warning as the data is non-linear and we are using a liner model to fit it."
   ]
  },
  {
   "cell_type": "code",
   "execution_count": 6,
   "metadata": {},
   "outputs": [
    {
     "name": "stderr",
     "output_type": "stream",
     "text": [
      "C:\\Users\\brady\\Anaconda3\\lib\\site-packages\\sklearn\\linear_model\\logistic.py:947: ConvergenceWarning: lbfgs failed to converge. Increase the number of iterations.\n",
      "  \"of iterations.\", ConvergenceWarning)\n"
     ]
    },
    {
     "data": {
      "text/plain": [
       "LogisticRegression(C=1.0, class_weight=None, dual=False, fit_intercept=True,\n",
       "                   intercept_scaling=1, l1_ratio=None, max_iter=100,\n",
       "                   multi_class='multinomial', n_jobs=None, penalty='l2',\n",
       "                   random_state=None, solver='lbfgs', tol=0.0001, verbose=0,\n",
       "                   warm_start=False)"
      ]
     },
     "execution_count": 6,
     "metadata": {},
     "output_type": "execute_result"
    }
   ],
   "source": [
    "softmax_reg = LogisticRegression(solver = \"lbfgs\", multi_class = \"multinomial\")\n",
    "softmax_reg.fit(X_train_flat, np.squeeze(y_train_flat))"
   ]
  },
  {
   "cell_type": "markdown",
   "metadata": {},
   "source": [
    "Now let's evaluate the model on the training and test images.  First we will need to get the h values."
   ]
  },
  {
   "cell_type": "code",
   "execution_count": 7,
   "metadata": {},
   "outputs": [],
   "source": [
    "h_train = softmax_reg.predict(X_train_flat)\n",
    "h_test = softmax_reg.predict(X_test_flat)"
   ]
  },
  {
   "cell_type": "markdown",
   "metadata": {},
   "source": [
    "Next, we will measure the model performance on the training set and test set using Confusion Matrix, Average Accuracy, Average Precision, Average Recall and Average F1-Score. "
   ]
  },
  {
   "cell_type": "code",
   "execution_count": 8,
   "metadata": {},
   "outputs": [
    {
     "name": "stdout",
     "output_type": "stream",
     "text": [
      "Training Performance:\n",
      "Average Train Confusion Matrix:\n",
      " [[5764    0   15    9   14   36   33   10   38    4]\n",
      " [   1 6584   32   19    6   20    3   10   55   12]\n",
      " [  28   47 5445   89   61   20   56   51  140   21]\n",
      " [  17   23  118 5582    6  162   14   50  119   40]\n",
      " [  13   22   23    9 5491    8   48   15   42  171]\n",
      " [  57   18   40  161   48 4793   82   15  160   47]\n",
      " [  34    9   40    0   35   58 5713    4   21    4]\n",
      " [  11   20   58   28   42    8    4 5896   20  178]\n",
      " [  27   93   55  122   19  136   36   18 5293   52]\n",
      " [  21   22   14   70  129   33    3  138   45 5474]]\n",
      "Average Train Accuracy: 93.39%\n",
      "Average Train Precision 93.32%\n",
      "Average Train Recall: 93.29%\n",
      "Average Train F1: 93.30%\n",
      "Testing Performance:\n",
      "Average Test Confusion Matrix:\n",
      " [[ 963    0    0    3    1    3    4    4    2    0]\n",
      " [   0 1112    4    2    0    1    3    2   11    0]\n",
      " [   3   10  926   15    6    4   15    8   42    3]\n",
      " [   4    1   21  916    1   26    3    9   22    7]\n",
      " [   1    1    7    3  910    0    9    7   10   34]\n",
      " [  11    2    1   33   11  776   11    6   35    6]\n",
      " [   9    3    7    3    7   16  910    2    1    0]\n",
      " [   1    6   24    5    7    1    0  951    3   30]\n",
      " [   8    7    6   23    6   26   10   10  869    9]\n",
      " [   9    7    0   11   25    6    0   22    7  922]]\n",
      "Average Test Accuracy: 92.55%\n",
      "Average Test Precision 92.47%\n",
      "Average Test Recall 92.44%\n",
      "Average Test F1: 92.44%\n"
     ]
    }
   ],
   "source": [
    "cf_train = confusion_matrix(y_train_flat, h_train)\n",
    "ca_train = np.mean(accuracy_score(y_train_flat, h_train))\n",
    "ps_train = np.mean(precision_score(y_train_flat, h_train, average = None)) \n",
    "rs_train = np.mean(recall_score(y_train_flat, h_train, average = None))\n",
    "f1_train = np.mean(f1_score(y_train_flat, h_train, average = None))\n",
    "print(\"Training Performance:\")\n",
    "print(\"Average Train Confusion Matrix:\\n\", cf_train)\n",
    "print(\"Average Train Accuracy: {0:0.2%}\".format(ca_train))\n",
    "print(\"Average Train Precision {0:0.2%}\".format(ps_train))\n",
    "print(\"Average Train Recall: {0:0.2%}\".format(rs_train))\n",
    "print(\"Average Train F1: {0:0.2%}\".format(f1_train))\n",
    "\n",
    "cf_test = confusion_matrix(y_test_flat, h_test)\n",
    "ca_test = np.mean(accuracy_score(y_test_flat, h_test))\n",
    "ps_test = np.mean(precision_score(y_test_flat, h_test, average = None))\n",
    "rs_test = np.mean(recall_score(y_test_flat, h_test, average = None))\n",
    "f1_test = np.mean(f1_score(y_test_flat, h_test, average = None))\n",
    "print(\"Testing Performance:\")\n",
    "print(\"Average Test Confusion Matrix:\\n\", cf_test)\n",
    "print(\"Average Test Accuracy: {0:0.2%}\".format(ca_test))\n",
    "print(\"Average Test Precision {0:0.2%}\".format(ps_test))\n",
    "print(\"Average Test Recall {0:0.2%}\".format(rs_test))\n",
    "print(\"Average Test F1: {0:0.2%}\".format(f1_test))"
   ]
  },
  {
   "cell_type": "markdown",
   "metadata": {},
   "source": [
    "## Expected output:\n",
    "<img src=\"Figure2.png\" width=\"40%\" height=\"40%\" align=\"left\"> <br>\n"
   ]
  },
  {
   "cell_type": "markdown",
   "metadata": {},
   "source": [
    "Finally, let's examine a set of images and compare their predicted and actual labels."
   ]
  },
  {
   "cell_type": "code",
   "execution_count": 9,
   "metadata": {},
   "outputs": [
    {
     "data": {
      "image/png": "[encoded data removed]",
      "text/plain": [
       "<Figure size 360x360 with 25 Axes>"
      ]
     },
     "metadata": {
      "needs_background": "light"
     },
     "output_type": "display_data"
    }
   ],
   "source": [
    "np.random.seed(5)\n",
    "display_a_random_sample_of_images(5, X_test, y_test, predictions = h_test, \n",
    "                                  title = \"Handwritten Images: Actual Digit, Predicted Digit\")\n",
    "plt.show()"
   ]
  },
  {
   "cell_type": "markdown",
   "metadata": {},
   "source": [
    "## Expected output:\n",
    "<img src=\"Figure3.png\" width=\"30%\" height=\"30%\" align=\"left\"> <br>\n"
   ]
  },
  {
   "cell_type": "markdown",
   "metadata": {},
   "source": [
    "For each misclassified image, provide a once scentence description of why you think it was missclassified"
   ]
  },
  {
   "cell_type": "markdown",
   "metadata": {},
   "source": [
    "### **Handwritten Image Misclassification:** ###\n",
    "#### *Actual Digit, Predicted Digit* ####\n",
    "##### ***5, 8*** #####\n",
    "The digit 5 is closed on the bottom and has the potential to close on the top which can be mistaked as a digit 8. A digit 8 is very close in segment properties as a digit 5, so this is a reasonable error.\n",
    "\n",
    "##### ***4, 9*** #####\n",
    "The digit 4 is nearly closed at the top and has a vertical line makign it seem it is a digit 9. A digit 9 is very close in segment properties as a digit 4, so this is a reasonable error.\n",
    "\n",
    "##### ***6, 5*** #####\n",
    "The digit 6 (although closed at the bottom) has a sharp line at the top that would make it seem to have a digit 5 property. A digit 5 is very close in segment properties as a digit 6, so this is a reasonable error.\n",
    "\n",
    "##### ***9, 1*** #####\n",
    "The digit 9 is closed at the top with a very small circle (nearly the size of the vertical line) that would make it seem more similar to a digit 1. A digit 1 is close in segment properties as a digit 9, so this is a reasonable error.\n",
    "\n",
    "##### ***8, 9*** #####\n",
    "The digit 8 does appear to be a clear cut digit 8, but I can see the pixels at the bottom appear to be less frequent and more frequent on the top, hence the algorithm probably mistaked it as not being closed at the bottom and appearing to be a digit 9 instead. A digit 8 has two loops and a digit 9 has one loop and are very close in segment properties, so this is a reasonble error."
   ]
  }
 ],
 "metadata": {
  "kernelspec": {
   "display_name": "Python 3",
   "language": "python",
   "name": "python3"
  },
  "language_info": {
   "codemirror_mode": {
    "name": "ipython",
    "version": 3
   },
   "file_extension": ".py",
   "mimetype": "text/x-python",
   "name": "python",
   "nbconvert_exporter": "python",
   "pygments_lexer": "ipython3",
   "version": "3.7.7"
  }
 },
 "nbformat": 4,
 "nbformat_minor": 2
}
